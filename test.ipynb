{
 "cells": [
  {
   "cell_type": "code",
   "execution_count": null,
   "id": "4a1aec8b",
   "metadata": {},
   "outputs": [
    {
     "name": "stderr",
     "output_type": "stream",
     "text": [
      "2025-05-12 16:38:30.370461: E external/local_xla/xla/stream_executor/cuda/cuda_dnn.cc:9261] Unable to register cuDNN factory: Attempting to register factory for plugin cuDNN when one has already been registered\n",
      "2025-05-12 16:38:30.370528: E external/local_xla/xla/stream_executor/cuda/cuda_fft.cc:607] Unable to register cuFFT factory: Attempting to register factory for plugin cuFFT when one has already been registered\n",
      "2025-05-12 16:38:30.372067: E external/local_xla/xla/stream_executor/cuda/cuda_blas.cc:1515] Unable to register cuBLAS factory: Attempting to register factory for plugin cuBLAS when one has already been registered\n",
      "2025-05-12 16:38:30.380118: I tensorflow/core/platform/cpu_feature_guard.cc:182] This TensorFlow binary is optimized to use available CPU instructions in performance-critical operations.\n",
      "To enable the following instructions: AVX2 FMA, in other operations, rebuild TensorFlow with the appropriate compiler flags.\n",
      "2025-05-12 16:38:31.594650: W tensorflow/compiler/tf2tensorrt/utils/py_utils.cc:38] TF-TRT Warning: Could not find TensorRT\n"
     ]
    }
   ],
   "source": [
    "import wfdb\n",
    "import numpy as np\n",
    "import matplotlib.pyplot as plt\n",
    "from sklearn.preprocessing import LabelEncoder\n",
    "from sklearn.metrics import balanced_accuracy_score, recall_score\n",
    "from tensorflow.keras.utils import to_categorical\n",
    "from sklearn.model_selection import KFold\n",
    "from torch.utils.data import TensorDataset, DataLoader, SubsetRandomSampler\n",
    "from sklearn.metrics import classification_report\n",
    "from torchvision import transforms\n",
    "import torch\n",
    "import torch.nn as nn"
   ]
  },
  {
   "cell_type": "code",
   "execution_count": null,
   "id": "d8093828",
   "metadata": {},
   "outputs": [],
   "source": [
    "import dataset_manager"
   ]
  },
  {
   "cell_type": "code",
   "execution_count": 3,
   "id": "bbb09e95",
   "metadata": {},
   "outputs": [
    {
     "name": "stdout",
     "output_type": "stream",
     "text": [
      "Loading cached data...\n"
     ]
    }
   ],
   "source": [
    "X, y = dataset_manager.load()"
   ]
  },
  {
   "cell_type": "code",
   "execution_count": 4,
   "id": "ddee5499",
   "metadata": {},
   "outputs": [
    {
     "name": "stdout",
     "output_type": "stream",
     "text": [
      "A 2546\n",
      "E 106\n",
      "F 802\n",
      "L 8071\n",
      "N 75011\n",
      "R 7255\n",
      "S 2\n",
      "V 7129\n",
      "a 150\n",
      "e 16\n",
      "j 229\n"
     ]
    }
   ],
   "source": [
    "categories, counts = np.unique(y, return_counts=True)\n",
    "for cat, count in zip(categories, counts):\n",
    "    print(cat, count)"
   ]
  },
  {
   "cell_type": "code",
   "execution_count": 5,
   "id": "7dda50cb",
   "metadata": {},
   "outputs": [
    {
     "data": {
      "text/plain": [
       "(101317, 360)"
      ]
     },
     "execution_count": 5,
     "metadata": {},
     "output_type": "execute_result"
    }
   ],
   "source": [
    "X.shape"
   ]
  },
  {
   "cell_type": "code",
   "execution_count": 6,
   "id": "ecf879c1",
   "metadata": {},
   "outputs": [],
   "source": [
    "# Removing categories with less than 100 elements\n",
    "indexes_filter = np.isin(y, categories[counts >= 100])\n",
    "\n",
    "X = X[indexes_filter]\n",
    "y = y[indexes_filter]"
   ]
  },
  {
   "cell_type": "code",
   "execution_count": 7,
   "id": "61481245",
   "metadata": {},
   "outputs": [
    {
     "name": "stdout",
     "output_type": "stream",
     "text": [
      "A 2546\n",
      "E 106\n",
      "F 802\n",
      "L 8071\n",
      "N 75011\n",
      "R 7255\n",
      "V 7129\n",
      "a 150\n",
      "j 229\n"
     ]
    }
   ],
   "source": [
    "categories, counts = np.unique(y, return_counts=True)\n",
    "for cat, count in zip(categories, counts):\n",
    "    print(cat, count)"
   ]
  },
  {
   "cell_type": "code",
   "execution_count": 8,
   "id": "cb35d744",
   "metadata": {},
   "outputs": [],
   "source": [
    "# Removing the excess elements from category N\n",
    "indices_N = np.where(y == 'N')[0]\n",
    "\n",
    "indices_to_remove = np.random.choice(indices_N, size=len(indices_N) - 8000, replace=False)\n",
    "X = np.delete(X, indices_to_remove, axis=0)\n",
    "y = np.delete(y, indices_to_remove, axis=0)"
   ]
  },
  {
   "cell_type": "code",
   "execution_count": 9,
   "id": "e37a4e93",
   "metadata": {},
   "outputs": [
    {
     "name": "stdout",
     "output_type": "stream",
     "text": [
      "A 2546\n",
      "E 106\n",
      "F 802\n",
      "L 8071\n",
      "N 8000\n",
      "R 7255\n",
      "V 7129\n",
      "a 150\n",
      "j 229\n"
     ]
    }
   ],
   "source": [
    "categories, counts = np.unique(y, return_counts=True)\n",
    "for cat, count in zip(categories, counts):\n",
    "    print(cat, count)"
   ]
  },
  {
   "cell_type": "code",
   "execution_count": 10,
   "id": "89fee755",
   "metadata": {},
   "outputs": [],
   "source": [
    "label_encoder = LabelEncoder()\n",
    "integer_encoded = label_encoder.fit_transform(y)\n",
    "one_hot = to_categorical(integer_encoded)"
   ]
  },
  {
   "cell_type": "code",
   "execution_count": 11,
   "id": "e1c44e0c",
   "metadata": {},
   "outputs": [
    {
     "data": {
      "text/plain": [
       "array(['A', 'E', 'F', 'L', 'N', 'R', 'V', 'a', 'j'], dtype='<U1')"
      ]
     },
     "execution_count": 11,
     "metadata": {},
     "output_type": "execute_result"
    }
   ],
   "source": [
    "label_encoder.classes_"
   ]
  },
  {
   "cell_type": "markdown",
   "id": "321d9958",
   "metadata": {},
   "source": [
    "# Training"
   ]
  },
  {
   "cell_type": "code",
   "execution_count": 15,
   "id": "0eafd95b",
   "metadata": {},
   "outputs": [],
   "source": [
    "\n",
    "\n",
    "# Reshape X per PyTorch CNN1D: (N, 1, L)\n",
    "X = X.reshape(X.shape[0], 1, X.shape[1])\n"
   ]
  },
  {
   "cell_type": "code",
   "execution_count": 16,
   "id": "d4e37cf7",
   "metadata": {},
   "outputs": [],
   "source": [
    "def training(model, _x, _y, n_epochs = 50, device = \"cuda\", sample_weight=None):\n",
    "    \n",
    "    # Converting in tensor\n",
    "    X_train_tensor = torch.tensor(_x, dtype=torch.float32).to(device)\n",
    "    y_train_tensor = torch.tensor(_y, dtype=torch.long).to(device)\n",
    "\n",
    "    # Creating DataLoader\n",
    "    train_dataset = TensorDataset(X_train_tensor, y_train_tensor)\n",
    "\n",
    "    train_loader = DataLoader(train_dataset, batch_size=32, shuffle=True)\n",
    "\n",
    "    training_np(model, train_loader, n_epochs, device, sample_weight)\n",
    "\n",
    "    \n",
    "\n",
    "def training_np(model, train_loader, n_epochs = 50, device = \"cuda\", sample_weight=None):\n",
    "\n",
    "    model.to(device)\n",
    "    criterion = nn.BCELoss()\n",
    "    optimizer = torch.optim.Adam(model.parameters(), lr=0.001)\n",
    "\n",
    "    if(sample_weight is not None):\n",
    "        sample_weight = torch.tensor(sample_weight).to(device)\n",
    "\n",
    "\n",
    "    for epoch in range(n_epochs):\n",
    "        model.train()\n",
    "        running_loss = 0.0\n",
    "        correct = 0\n",
    "        total = 0\n",
    "        \n",
    "        for inputs, labels in train_loader:\n",
    "            inputs = inputs.to(device)\n",
    "            labels = labels.to(device)\n",
    "            optimizer.zero_grad()\n",
    "            outputs = model(inputs)\n",
    "            loss = criterion(outputs, labels.float())\n",
    "            if(sample_weight is not None):\n",
    "                loss = loss * sample_weight \n",
    "                loss = loss.mean()\n",
    "            loss.backward()\n",
    "            optimizer.step()\n",
    "            \n",
    "            running_loss += loss.item() * inputs.size(0)\n",
    "            total += labels.size(0)\n",
    "\n",
    "        avg_loss = running_loss / total    \n",
    "        print(f\"Epoch {epoch+1}: Loss={avg_loss:.4f}\")"
   ]
  },
  {
   "cell_type": "code",
   "execution_count": 17,
   "id": "dc0d2e25",
   "metadata": {},
   "outputs": [],
   "source": [
    "models = [\n",
    "    # ECGLSTM(input_length=X.shape[2], output=len(categories)),\n",
    "    # ECGCNN(input_length=X.shape[2], output=len(categories)),\n",
    "    # ECGHYBRID(input_length=X.shape[2], output=len(categories))\n",
    "]\n",
    "\n",
    "EPOCHS = 5\n",
    "\n",
    "performances = {}"
   ]
  },
  {
   "cell_type": "code",
   "execution_count": 18,
   "id": "5e102098",
   "metadata": {},
   "outputs": [],
   "source": [
    "for model in models:\n",
    "    print(f\"Training {model.name()} model:\")\n",
    "    performances[model.name()] = {}\n",
    "    kf = KFold(2, shuffle=True)\n",
    "\n",
    "    balanced_accuracy = 0\n",
    "    n_accuracy = 0\n",
    "    a_accuracy = 0\n",
    "    count = 0\n",
    "\n",
    "    for train_index, val_index in kf.split(X):\n",
    "        count += 1\n",
    "        X_train, X_val = X[train_index, :,:], X[val_index, :,:]\n",
    "        y_train, y_val = one_hot[train_index], one_hot[val_index]\n",
    "        y_val_symb = y[train_index]\n",
    "\n",
    "        training(model, X_train, y_train, n_epochs = EPOCHS)\n",
    "\n",
    "        # Test Dataset and DataLoader\n",
    "        test_dataset = TensorDataset(torch.tensor(X_val, dtype=torch.float32), torch.tensor(y_val, dtype=torch.float32))\n",
    "        test_loader = DataLoader(test_dataset, batch_size=64, shuffle=False)\n",
    "\n",
    "        # Evaluation\n",
    "        model.eval()\n",
    "        predictions = []\n",
    "\n",
    "        with torch.no_grad():\n",
    "            for X_batch, _ in test_loader:\n",
    "                X_batch = X_batch.to(\"cuda\")\n",
    "                output = model(X_batch).to(\"cpu\")\n",
    "                predictions.append(output)\n",
    "\n",
    "        # Output concatenation\n",
    "        test_output = torch.cat(predictions).detach().numpy()\n",
    "\n",
    "        model.train()\n",
    "\n",
    "        y_true_labels = np.argmax(y_val, axis=1)\n",
    "        y_pred_labels = np.argmax(test_output, axis=1)\n",
    "\n",
    "        for i, category in enumerate(label_encoder.classes_):\n",
    "            recall = recall_score(y_true_labels == i, y_pred_labels == i)\n",
    "            if category in performances[model.name()]:\n",
    "                performances[model.name()][category] = performances[model.name()][category] + recall\n",
    "            else:\n",
    "                performances[model.name()][category] = recall\n",
    "\n",
    "    for category in performances[model.name()]:\n",
    "        performances[model.name()][category] = performances[model.name()][category] / count\n",
    "    print(\"\")"
   ]
  },
  {
   "cell_type": "code",
   "execution_count": 19,
   "id": "7358c5fd",
   "metadata": {},
   "outputs": [],
   "source": [
    "for model, perf in performances.items():\n",
    "    print(model,\"performances:\")\n",
    "    for category in perf:\n",
    "        print(\"\\t\",category, perf[category])\n",
    "    print(\"\")"
   ]
  }
 ],
 "metadata": {
  "kernelspec": {
   "display_name": "ai",
   "language": "python",
   "name": "python3"
  },
  "language_info": {
   "codemirror_mode": {
    "name": "ipython",
    "version": 3
   },
   "file_extension": ".py",
   "mimetype": "text/x-python",
   "name": "python",
   "nbconvert_exporter": "python",
   "pygments_lexer": "ipython3",
   "version": "3.11.8"
  }
 },
 "nbformat": 4,
 "nbformat_minor": 5
}
